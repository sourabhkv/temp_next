{
 "cells": [
  {
   "cell_type": "code",
   "execution_count": 33,
   "metadata": {},
   "outputs": [
    {
     "name": "stdout",
     "output_type": "stream",
     "text": [
      "System info\n",
      "Windows-10-10.0.22621-SP0\n",
      "10.0.22621\n",
      "10\n",
      "Windows\n",
      "OS type : nt\n",
      "CPU count : 12\n",
      "PID : 12920\n",
      "yt-dlp --version =  2023.01.06\n",
      "\n"
     ]
    }
   ],
   "source": [
    "import os, platform, subprocess\n",
    "import yt_dlp\n",
    "print(\"System info\")\n",
    "print(platform.platform())\n",
    "print(platform.version())\n",
    "print(platform.release())\n",
    "print(platform.system())\n",
    "print(\"OS type :\",os.name)\n",
    "print(\"CPU count :\",os.cpu_count())\n",
    "print(\"PID :\",os.getpid())\n",
    "\n",
    "#print(\"Parameters\")\n",
    "#print(url)\n",
    "#print(\"Output\",output)\n",
    "\n",
    "r = subprocess.run([\"yt-dlp_x86.exe\",\"--version\"],shell=True,stdout=subprocess.PIPE)\n",
    "print(\"yt-dlp --version = \",r.stdout.decode(\"utf-8\"))"
   ]
  }
 ],
 "metadata": {
  "kernelspec": {
   "display_name": "Python 3",
   "language": "python",
   "name": "python3"
  },
  "language_info": {
   "codemirror_mode": {
    "name": "ipython",
    "version": 3
   },
   "file_extension": ".py",
   "mimetype": "text/x-python",
   "name": "python",
   "nbconvert_exporter": "python",
   "pygments_lexer": "ipython3",
   "version": "3.8.10"
  },
  "orig_nbformat": 4,
  "vscode": {
   "interpreter": {
    "hash": "4ba5114de4d5e1169d22e8372239569db7c3030194ef7fde65eaf209d6be0504"
   }
  }
 },
 "nbformat": 4,
 "nbformat_minor": 2
}
